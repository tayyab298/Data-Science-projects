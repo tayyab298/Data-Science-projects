{
  "metadata": {
    "kernelspec": {
      "language": "python",
      "display_name": "Python 3",
      "name": "python3"
    },
    "language_info": {
      "name": "python",
      "version": "3.7.12",
      "mimetype": "text/x-python",
      "codemirror_mode": {
        "name": "ipython",
        "version": 3
      },
      "pygments_lexer": "ipython3",
      "nbconvert_exporter": "python",
      "file_extension": ".py"
    },
    "colab": {
      "name": "House Prices - Advanced Regression Techniques.ipynb",
      "provenance": []
    }
  },
  "nbformat_minor": 0,
  "nbformat": 4,
  "cells": [
    {
      "cell_type": "markdown",
      "source": [
        "# House Prices - Advanced Regression Techniques"
      ],
      "metadata": {
        "id": "_aa8_rrl5Nzm"
      }
    },
    {
      "cell_type": "markdown",
      "source": [
        "\n",
        "\n",
        "\n",
        "The following are some of the terms used in the notebook:\n",
        "\n",
        "train - Kaggle data on trains\n",
        "\n",
        "test - Kaggle data for testing\n",
        "\n",
        "X - train data independent variables (columns)\n",
        "\n",
        "y - train data dependent variable (column)\n",
        "\n",
        "data - a mix of training and testing data\n",
        "\n",
        "X_ - train data with missing values removed\n",
        "\n",
        "test_ - test data after missing values have been removed.\n",
        "\n",
        "Xscaled is data that has been scaled from X.\n",
        "\n",
        "x train 90, x test 10, y train 90, y test 10 - x train 90, x test 10, y train 90, y test 10 - y train 90, y test 10 - y train 90, y test 10 - y_\n",
        "\n",
        "x train 75, x test 25, y train 75, y test 25 - data separated into train and test with testsize=0.25 from X\n",
        "\n",
        "x train scaled 90, x test scaled 10, y train scaled 90, y test scaled 10 - train test split with test size=0.10 data from X scaled data.\n",
        "\n",
        "x train scaled 75, x test scaled 25, y train scaled 75, y test scaled 25 - train test split with test size=0.25 data from X scaled data.\n",
        "\n",
        "score test - stores the results of all algorithms applied to the x test and y test data.\n",
        "\n",
        "model identifies which models/algorithms are being used.\n",
        "\n",
        "best model - the best model's name\n",
        "\n",
        "y predict test - data for submission"
      ],
      "metadata": {
        "_kg_hide-input": true,
        "id": "sEcSiQtQ4_b4"
      }
    },
    {
      "cell_type": "code",
      "source": [
        "import numpy as np # linear algebra\n",
        "import pandas as pd # data processing, CSV file I/O (e.g. pd.read_csv)\n",
        "import matplotlib.pyplot as plt\n",
        "import seaborn as sns #for visualisation\n",
        "\n",
        "import os\n",
        "for dirname, _, filenames in os.walk('/kaggle/input'):\n",
        "    for filename in filenames:\n",
        "        print(os.path.join(dirname, filename))"
      ],
      "metadata": {
        "execution": {
          "iopub.status.busy": "2021-12-25T14:04:06.384074Z",
          "iopub.execute_input": "2021-12-25T14:04:06.384378Z",
          "iopub.status.idle": "2021-12-25T14:04:06.394188Z",
          "shell.execute_reply.started": "2021-12-25T14:04:06.384346Z",
          "shell.execute_reply": "2021-12-25T14:04:06.393287Z"
        },
        "trusted": true,
        "id": "fAhKoH5Y4_cJ"
      },
      "execution_count": null,
      "outputs": []
    },
    {
      "cell_type": "code",
      "source": [
        "train=pd.read_csv('/kaggle/input/house-price/train.csv')\n",
        "test=pd.read_csv('/kaggle/input/house-price/test.csv')"
      ],
      "metadata": {
        "execution": {
          "iopub.status.busy": "2021-12-25T14:04:06.398141Z",
          "iopub.execute_input": "2021-12-25T14:04:06.398367Z",
          "iopub.status.idle": "2021-12-25T14:04:06.449967Z",
          "shell.execute_reply.started": "2021-12-25T14:04:06.398339Z",
          "shell.execute_reply": "2021-12-25T14:04:06.449146Z"
        },
        "trusted": true,
        "id": "X_8FkaMA4_cO"
      },
      "execution_count": null,
      "outputs": []
    },
    {
      "cell_type": "code",
      "source": [
        "train.shape, test.shape"
      ],
      "metadata": {
        "execution": {
          "iopub.status.busy": "2021-12-25T14:04:06.451295Z",
          "iopub.execute_input": "2021-12-25T14:04:06.451523Z",
          "iopub.status.idle": "2021-12-25T14:04:06.458231Z",
          "shell.execute_reply.started": "2021-12-25T14:04:06.451498Z",
          "shell.execute_reply": "2021-12-25T14:04:06.457208Z"
        },
        "trusted": true,
        "id": "ZP15p5g24_cR"
      },
      "execution_count": null,
      "outputs": []
    },
    {
      "cell_type": "code",
      "source": [
        "train.head(10)"
      ],
      "metadata": {
        "execution": {
          "iopub.status.busy": "2021-12-25T14:04:06.460701Z",
          "iopub.execute_input": "2021-12-25T14:04:06.461205Z",
          "iopub.status.idle": "2021-12-25T14:04:06.497243Z",
          "shell.execute_reply.started": "2021-12-25T14:04:06.461172Z",
          "shell.execute_reply": "2021-12-25T14:04:06.496414Z"
        },
        "trusted": true,
        "id": "g8BQuHTN4_cT"
      },
      "execution_count": null,
      "outputs": []
    },
    {
      "cell_type": "code",
      "source": [
        "test.head(10)"
      ],
      "metadata": {
        "execution": {
          "iopub.status.busy": "2021-12-25T14:04:06.498776Z",
          "iopub.execute_input": "2021-12-25T14:04:06.499716Z",
          "iopub.status.idle": "2021-12-25T14:04:06.539631Z",
          "shell.execute_reply.started": "2021-12-25T14:04:06.499673Z",
          "shell.execute_reply": "2021-12-25T14:04:06.538969Z"
        },
        "trusted": true,
        "id": "_Lgsu7EB4_cX"
      },
      "execution_count": null,
      "outputs": []
    },
    {
      "cell_type": "markdown",
      "source": [
        "## Starting prelimanary anaylsis"
      ],
      "metadata": {
        "id": "MnuDUZSX4_ca"
      }
    },
    {
      "cell_type": "markdown",
      "source": [
        ""
      ],
      "metadata": {
        "id": "LnFA0OE14_cc"
      }
    },
    {
      "cell_type": "code",
      "source": [
        "train.dtypes #shows datatype of different columns of train dataset"
      ],
      "metadata": {
        "execution": {
          "iopub.status.busy": "2021-12-25T14:04:06.541026Z",
          "iopub.execute_input": "2021-12-25T14:04:06.541611Z",
          "iopub.status.idle": "2021-12-25T14:04:06.550151Z",
          "shell.execute_reply.started": "2021-12-25T14:04:06.541569Z",
          "shell.execute_reply": "2021-12-25T14:04:06.549491Z"
        },
        "trusted": true,
        "id": "bAmXURf14_ce"
      },
      "execution_count": null,
      "outputs": []
    },
    {
      "cell_type": "code",
      "source": [
        "train.describe(include=\"all\")"
      ],
      "metadata": {
        "execution": {
          "iopub.status.busy": "2021-12-25T14:04:06.551340Z",
          "iopub.execute_input": "2021-12-25T14:04:06.551587Z",
          "iopub.status.idle": "2021-12-25T14:04:06.745942Z",
          "shell.execute_reply.started": "2021-12-25T14:04:06.551560Z",
          "shell.execute_reply": "2021-12-25T14:04:06.745010Z"
        },
        "trusted": true,
        "id": "0RWLIK8-4_cg"
      },
      "execution_count": null,
      "outputs": []
    },
    {
      "cell_type": "code",
      "source": [
        "train.info"
      ],
      "metadata": {
        "execution": {
          "iopub.status.busy": "2021-12-25T14:04:06.747302Z",
          "iopub.execute_input": "2021-12-25T14:04:06.747936Z",
          "iopub.status.idle": "2021-12-25T14:04:06.770363Z",
          "shell.execute_reply.started": "2021-12-25T14:04:06.747876Z",
          "shell.execute_reply": "2021-12-25T14:04:06.769329Z"
        },
        "trusted": true,
        "id": "Ej07KXSC4_ci"
      },
      "execution_count": null,
      "outputs": []
    },
    {
      "cell_type": "markdown",
      "source": [
        "from this we are getting gist about our dataset"
      ],
      "metadata": {
        "id": "I0b_tQtk4_ck"
      }
    },
    {
      "cell_type": "markdown",
      "source": [
        "### Finding the missing values and dealing with them"
      ],
      "metadata": {
        "id": "YF58A4JV4_cm"
      }
    },
    {
      "cell_type": "code",
      "source": [
        "count=train.isnull()\n",
        "count"
      ],
      "metadata": {
        "execution": {
          "iopub.status.busy": "2021-12-25T14:04:06.773050Z",
          "iopub.execute_input": "2021-12-25T14:04:06.773353Z",
          "iopub.status.idle": "2021-12-25T14:04:06.821744Z",
          "shell.execute_reply.started": "2021-12-25T14:04:06.773311Z",
          "shell.execute_reply": "2021-12-25T14:04:06.820888Z"
        },
        "trusted": true,
        "id": "5493cmC-4_cn"
      },
      "execution_count": null,
      "outputs": []
    },
    {
      "cell_type": "code",
      "source": [
        "#counting null value in both train and test dataset\n",
        "train.isnull().sum().sum()"
      ],
      "metadata": {
        "execution": {
          "iopub.status.busy": "2021-12-25T14:04:06.823232Z",
          "iopub.execute_input": "2021-12-25T14:04:06.823930Z",
          "iopub.status.idle": "2021-12-25T14:04:06.843776Z",
          "shell.execute_reply.started": "2021-12-25T14:04:06.823855Z",
          "shell.execute_reply": "2021-12-25T14:04:06.842884Z"
        },
        "trusted": true,
        "id": "DPy_CxPJ4_cp"
      },
      "execution_count": null,
      "outputs": []
    },
    {
      "cell_type": "code",
      "source": [
        "test.isnull().sum().sum()"
      ],
      "metadata": {
        "execution": {
          "iopub.status.busy": "2021-12-25T14:04:06.845069Z",
          "iopub.execute_input": "2021-12-25T14:04:06.846071Z",
          "iopub.status.idle": "2021-12-25T14:04:06.863689Z",
          "shell.execute_reply.started": "2021-12-25T14:04:06.846012Z",
          "shell.execute_reply": "2021-12-25T14:04:06.862884Z"
        },
        "trusted": true,
        "id": "JXMsVhIf4_cq"
      },
      "execution_count": null,
      "outputs": []
    },
    {
      "cell_type": "markdown",
      "source": [
        "***There are 6965 missing values in train dataset and 7000 values in test dataset***"
      ],
      "metadata": {
        "id": "1W5SgC4a4_cr"
      }
    },
    {
      "cell_type": "markdown",
      "source": [
        "## Splitting the dataset for training later"
      ],
      "metadata": {
        "id": "Lpuguh_z4_cs"
      }
    },
    {
      "cell_type": "code",
      "source": [
        "#Split the train into x_train and y_train so that SalePrice can be kept separate for training later\n",
        "y = train.SalePrice\n",
        "X = train.drop('SalePrice', axis=1)"
      ],
      "metadata": {
        "execution": {
          "iopub.status.busy": "2021-12-25T14:04:06.872812Z",
          "iopub.execute_input": "2021-12-25T14:04:06.873174Z",
          "iopub.status.idle": "2021-12-25T14:04:06.880269Z",
          "shell.execute_reply.started": "2021-12-25T14:04:06.873136Z",
          "shell.execute_reply": "2021-12-25T14:04:06.879369Z"
        },
        "trusted": true,
        "id": "J8ytW5w44_ct"
      },
      "execution_count": null,
      "outputs": []
    },
    {
      "cell_type": "code",
      "source": [
        "y.shape ,X.shape, test.shape"
      ],
      "metadata": {
        "execution": {
          "iopub.status.busy": "2021-12-25T14:04:06.882141Z",
          "iopub.execute_input": "2021-12-25T14:04:06.883130Z",
          "iopub.status.idle": "2021-12-25T14:04:06.893170Z",
          "shell.execute_reply.started": "2021-12-25T14:04:06.883084Z",
          "shell.execute_reply": "2021-12-25T14:04:06.891902Z"
        },
        "trusted": true,
        "id": "BCuUKFCd4_cu"
      },
      "execution_count": null,
      "outputs": []
    },
    {
      "cell_type": "code",
      "source": [
        "X['Type'] = 'train'\n",
        "test['Type'] = 'test'\n",
        "data = X.append(test)"
      ],
      "metadata": {
        "execution": {
          "iopub.status.busy": "2021-12-25T14:04:06.918268Z",
          "iopub.execute_input": "2021-12-25T14:04:06.918755Z",
          "iopub.status.idle": "2021-12-25T14:04:06.944729Z",
          "shell.execute_reply.started": "2021-12-25T14:04:06.918715Z",
          "shell.execute_reply": "2021-12-25T14:04:06.943981Z"
        },
        "trusted": true,
        "id": "tgSUXi6I4_cv"
      },
      "execution_count": null,
      "outputs": []
    },
    {
      "cell_type": "code",
      "source": [
        "columns_with_null_values= data[data.columns[data.isnull().sum()>0]]\n",
        "columns_with_null_values"
      ],
      "metadata": {
        "execution": {
          "iopub.status.busy": "2021-12-25T14:04:06.946359Z",
          "iopub.execute_input": "2021-12-25T14:04:06.946702Z",
          "iopub.status.idle": "2021-12-25T14:04:07.009952Z",
          "shell.execute_reply.started": "2021-12-25T14:04:06.946674Z",
          "shell.execute_reply": "2021-12-25T14:04:07.009371Z"
        },
        "trusted": true,
        "id": "Lpj30Zso4_cx"
      },
      "execution_count": null,
      "outputs": []
    },
    {
      "cell_type": "markdown",
      "source": [
        "***We have 34 columns which have null values out of 81 columns***"
      ],
      "metadata": {
        "id": "owrllc7t4_cy"
      }
    },
    {
      "cell_type": "markdown",
      "source": [
        "## Dealing with missing values"
      ],
      "metadata": {
        "id": "YJ1SlpHo4_cz"
      }
    },
    {
      "cell_type": "code",
      "source": [
        "#We have to fill in appropriate value according to columns relevacny so our data don't get disturbed .\n",
        "data['Electrical'].value_counts()"
      ],
      "metadata": {
        "execution": {
          "iopub.status.busy": "2021-12-25T14:04:07.011009Z",
          "iopub.execute_input": "2021-12-25T14:04:07.011327Z",
          "iopub.status.idle": "2021-12-25T14:04:07.017984Z",
          "shell.execute_reply.started": "2021-12-25T14:04:07.011288Z",
          "shell.execute_reply": "2021-12-25T14:04:07.017348Z"
        },
        "trusted": true,
        "id": "eDXr95-m4_c0"
      },
      "execution_count": null,
      "outputs": []
    },
    {
      "cell_type": "markdown",
      "source": [
        "##### In the above values, we can see that \"Sbrkr\" is the mostly used 'Electrical' part. Hence, we can't put \"None\" in the null values because a house must have \"Electrical\" items/fuses. So we will fill null values with \"Sbrkr\" in this column."
      ],
      "metadata": {
        "execution": {
          "iopub.status.busy": "2021-12-25T13:43:29.898115Z",
          "iopub.execute_input": "2021-12-25T13:43:29.898399Z",
          "iopub.status.idle": "2021-12-25T13:43:29.902362Z",
          "shell.execute_reply.started": "2021-12-25T13:43:29.898367Z",
          "shell.execute_reply": "2021-12-25T13:43:29.901681Z"
        },
        "id": "2T3wkv8i4_c0"
      }
    },
    {
      "cell_type": "code",
      "source": [
        "data['Electrical'].fillna(\"Sbrkr\", inplace=True)"
      ],
      "metadata": {
        "execution": {
          "iopub.status.busy": "2021-12-25T14:04:07.019282Z",
          "iopub.execute_input": "2021-12-25T14:04:07.019687Z",
          "iopub.status.idle": "2021-12-25T14:04:07.027189Z",
          "shell.execute_reply.started": "2021-12-25T14:04:07.019659Z",
          "shell.execute_reply": "2021-12-25T14:04:07.026458Z"
        },
        "trusted": true,
        "id": "OTRwZcyB4_c1"
      },
      "execution_count": null,
      "outputs": []
    },
    {
      "cell_type": "markdown",
      "source": [
        "we have to fill in appropriate values according to columns specification"
      ],
      "metadata": {
        "id": "Vp6QXHe24_c2"
      }
    },
    {
      "cell_type": "code",
      "source": [
        "data['MSZoning'].value_counts()\n",
        "#Filling null values with 'RL'\n",
        "data['MSZoning'].fillna(\"RL\",inplace=True)\n",
        "\n",
        "#Filling nul values with mean\n",
        "data['LotFrontage'].fillna(data['LotFrontage'].mean(), inplace=True)\n",
        "\n",
        "data['Alley'].fillna(\"Nothing\", inplace=True)\n",
        "data['Utilities'].fillna(\"AllPub\", inplace=True)\n",
        "data['Exterior1st'].fillna(\"VinylSd\", inplace=True)\n",
        "data['Exterior2nd'].fillna(\"VinylSd\", inplace=True)\n",
        "data['MasVnrArea'].fillna(0, inplace=True)\n",
        "data['MasVnrType'].fillna(\"None\", inplace=True)\n",
        "data['BsmtCond'].fillna(\"No\", inplace=True)\n",
        "data['BsmtExposure'].fillna(\"NB\", inplace=True)\n",
        "data['BsmtFinType1'].fillna(\"NB\", inplace=True)\n",
        "data['BsmtFinSF1'].fillna(0.0, inplace=True)\n",
        "data['BsmtFinSF2'].fillna(0.0, inplace=True)\n",
        "data['BsmtUnfSF'].fillna(0.0, inplace=True)\n",
        "data['TotalBsmtSF'].fillna(0.0, inplace=True)\n",
        "data['BsmtFullBath'].fillna(0.0, inplace=True)\n",
        "data['BsmtHalfBath'].fillna(0.0, inplace=True)\n",
        "data['KitchenQual'].fillna(\"TA\", inplace=True)\n",
        "data['Functional'].fillna(\"Typ\", inplace=True)\n",
        "data['FireplaceQu'].fillna(\"None\", inplace=True)\n",
        "data['GarageType'].fillna(\"No\", inplace=True)\n",
        "data['GarageYrBlt'].fillna(0, inplace=True)\n",
        "data['GarageFinish'].fillna(\"No\", inplace=True)\n",
        "data['GarageCars'].fillna(0, inplace=True)\n",
        "data['GarageArea'].fillna(0, inplace=True)\n",
        "data['GarageQual'].fillna(\"No\", inplace=True)\n",
        "data['GarageCond'].fillna(\"No\", inplace=True)\n",
        "data['PoolQC'].fillna(\"No\", inplace=True)\n",
        "data['Fence'].fillna(\"No\", inplace=True)\n",
        "data['MiscFeature'].fillna(\"No\", inplace=True)\n",
        "data['SaleType'].fillna(\"Con\", inplace=True)\n",
        "data['SaleCondition'].fillna(\"None\", inplace=True)\n",
        "data['BsmtQual'].fillna(\"TA\", inplace=True)\n",
        "data['BsmtFinType2'].fillna(\"Unf\", inplace=True)"
      ],
      "metadata": {
        "execution": {
          "iopub.status.busy": "2021-12-25T14:04:07.029524Z",
          "iopub.execute_input": "2021-12-25T14:04:07.030044Z",
          "iopub.status.idle": "2021-12-25T14:04:07.072768Z",
          "shell.execute_reply.started": "2021-12-25T14:04:07.030004Z",
          "shell.execute_reply": "2021-12-25T14:04:07.071506Z"
        },
        "trusted": true,
        "id": "u-lEJfYI4_c3"
      },
      "execution_count": null,
      "outputs": []
    },
    {
      "cell_type": "markdown",
      "source": [
        "### checking for null values"
      ],
      "metadata": {
        "execution": {
          "iopub.status.busy": "2021-12-25T13:50:22.856388Z",
          "iopub.execute_input": "2021-12-25T13:50:22.856637Z",
          "iopub.status.idle": "2021-12-25T13:50:22.860805Z",
          "shell.execute_reply.started": "2021-12-25T13:50:22.856611Z",
          "shell.execute_reply": "2021-12-25T13:50:22.860140Z"
        },
        "id": "0YmED_j04_c5"
      }
    },
    {
      "cell_type": "code",
      "source": [
        "data.isnull().sum().sum()"
      ],
      "metadata": {
        "execution": {
          "iopub.status.busy": "2021-12-25T14:04:07.074210Z",
          "iopub.execute_input": "2021-12-25T14:04:07.077105Z",
          "iopub.status.idle": "2021-12-25T14:04:07.101660Z",
          "shell.execute_reply.started": "2021-12-25T14:04:07.077067Z",
          "shell.execute_reply": "2021-12-25T14:04:07.100764Z"
        },
        "trusted": true,
        "id": "LfeO7Rt54_c5"
      },
      "execution_count": null,
      "outputs": []
    },
    {
      "cell_type": "markdown",
      "source": [
        "### Checking different datatype of columns"
      ],
      "metadata": {
        "id": "zz1G3lD-4_c6"
      }
    },
    {
      "cell_type": "code",
      "source": [
        "data_Num=data.select_dtypes(np.number)\n",
        "\n",
        "print('Numerical features :')\n",
        "print(data_Num.columns,'\\n')\n"
      ],
      "metadata": {
        "execution": {
          "iopub.status.busy": "2021-12-25T14:04:07.103510Z",
          "iopub.execute_input": "2021-12-25T14:04:07.103918Z",
          "iopub.status.idle": "2021-12-25T14:04:07.112276Z",
          "shell.execute_reply.started": "2021-12-25T14:04:07.103849Z",
          "shell.execute_reply": "2021-12-25T14:04:07.111266Z"
        },
        "trusted": true,
        "id": "gEF3wUxC4_c7"
      },
      "execution_count": null,
      "outputs": []
    },
    {
      "cell_type": "code",
      "source": [
        "\n",
        "data_Cat=data.select_dtypes(object)\n",
        "\n",
        "print('Categorical features :')\n",
        "print(data_Cat.columns)"
      ],
      "metadata": {
        "execution": {
          "iopub.status.busy": "2021-12-25T14:04:07.113837Z",
          "iopub.execute_input": "2021-12-25T14:04:07.114421Z",
          "iopub.status.idle": "2021-12-25T14:04:07.127677Z",
          "shell.execute_reply.started": "2021-12-25T14:04:07.114391Z",
          "shell.execute_reply": "2021-12-25T14:04:07.126837Z"
        },
        "trusted": true,
        "id": "do77cCkC4_c7"
      },
      "execution_count": null,
      "outputs": []
    },
    {
      "cell_type": "code",
      "source": [
        "data_float=data.select_dtypes(np.float)\n",
        "\n",
        "print('decimal point value features :')\n",
        "print(data_float.columns,'\\n')\n"
      ],
      "metadata": {
        "execution": {
          "iopub.status.busy": "2021-12-25T14:04:07.128759Z",
          "iopub.execute_input": "2021-12-25T14:04:07.129809Z",
          "iopub.status.idle": "2021-12-25T14:04:07.137328Z",
          "shell.execute_reply.started": "2021-12-25T14:04:07.129777Z",
          "shell.execute_reply": "2021-12-25T14:04:07.136376Z"
        },
        "trusted": true,
        "id": "_T3nXhdl4_c8"
      },
      "execution_count": null,
      "outputs": []
    },
    {
      "cell_type": "markdown",
      "source": [
        "## Data Preprocessing"
      ],
      "metadata": {
        "id": "yR1DN9bU4_c9"
      }
    },
    {
      "cell_type": "code",
      "source": [
        "data.var()"
      ],
      "metadata": {
        "execution": {
          "iopub.status.busy": "2021-12-25T14:04:07.138988Z",
          "iopub.execute_input": "2021-12-25T14:04:07.139528Z",
          "iopub.status.idle": "2021-12-25T14:04:07.177102Z",
          "shell.execute_reply.started": "2021-12-25T14:04:07.139495Z",
          "shell.execute_reply": "2021-12-25T14:04:07.176294Z"
        },
        "trusted": true,
        "id": "mHXHudHT4_c-"
      },
      "execution_count": null,
      "outputs": []
    },
    {
      "cell_type": "code",
      "source": [
        "corr =data.corr()\n",
        "corr"
      ],
      "metadata": {
        "execution": {
          "iopub.status.busy": "2021-12-25T14:07:01.771485Z",
          "iopub.execute_input": "2021-12-25T14:07:01.772405Z",
          "iopub.status.idle": "2021-12-25T14:07:01.833549Z",
          "shell.execute_reply.started": "2021-12-25T14:07:01.772352Z",
          "shell.execute_reply": "2021-12-25T14:07:01.832954Z"
        },
        "trusted": true,
        "id": "cf2Igd_F4_c-"
      },
      "execution_count": null,
      "outputs": []
    },
    {
      "cell_type": "code",
      "source": [
        "#visualising correaltion between data with a heatmap\n",
        "\n",
        "plt.figure(figsize=(25,19))\n",
        "sns.heatmap(corr, annot=True ,vmin=-1.0,cmap='mako')\n",
        "plt.title('Correlation heatmap')\n",
        "plt.show()"
      ],
      "metadata": {
        "execution": {
          "iopub.status.busy": "2021-12-25T14:10:16.144906Z",
          "iopub.execute_input": "2021-12-25T14:10:16.145696Z",
          "iopub.status.idle": "2021-12-25T14:10:22.121812Z",
          "shell.execute_reply.started": "2021-12-25T14:10:16.145637Z",
          "shell.execute_reply": "2021-12-25T14:10:22.120975Z"
        },
        "trusted": true,
        "id": "KvbVnWOx4_c_"
      },
      "execution_count": null,
      "outputs": []
    },
    {
      "cell_type": "markdown",
      "source": [
        "**As we know all the diagonal elements will be 1 so let's take the upper triangular matrix**\n"
      ],
      "metadata": {
        "id": "J3i_5HLs4_dA"
      }
    },
    {
      "cell_type": "code",
      "source": [
        "upper_matrix = corr.where(np.triu(np.ones(corr.shape),k=1).astype(np.bool))\n",
        "upper_matrix"
      ],
      "metadata": {
        "execution": {
          "iopub.status.busy": "2021-12-25T14:12:15.786170Z",
          "iopub.execute_input": "2021-12-25T14:12:15.786448Z",
          "iopub.status.idle": "2021-12-25T14:12:15.840130Z",
          "shell.execute_reply.started": "2021-12-25T14:12:15.786419Z",
          "shell.execute_reply": "2021-12-25T14:12:15.839411Z"
        },
        "trusted": true,
        "id": "5yrv4_X54_dB"
      },
      "execution_count": null,
      "outputs": []
    },
    {
      "cell_type": "code",
      "source": [
        "#Dropping columns with high correlation\n",
        "drop_columns=[col for col in upper_matrix.columns if any(upper_matrix[col]>0.8)]\n",
        "drop_columns"
      ],
      "metadata": {
        "execution": {
          "iopub.status.busy": "2021-12-25T14:15:37.182961Z",
          "iopub.execute_input": "2021-12-25T14:15:37.183682Z",
          "iopub.status.idle": "2021-12-25T14:15:37.194968Z",
          "shell.execute_reply.started": "2021-12-25T14:15:37.183633Z",
          "shell.execute_reply": "2021-12-25T14:15:37.194301Z"
        },
        "trusted": true,
        "id": "OB2MZ_0J4_dB"
      },
      "execution_count": null,
      "outputs": []
    },
    {
      "cell_type": "code",
      "source": [
        "data.drop(data[drop_columns],axis=1, inplace=True)\n",
        "data.head()"
      ],
      "metadata": {
        "execution": {
          "iopub.status.busy": "2021-12-25T14:16:40.172277Z",
          "iopub.execute_input": "2021-12-25T14:16:40.172552Z",
          "iopub.status.idle": "2021-12-25T14:16:40.200738Z",
          "shell.execute_reply.started": "2021-12-25T14:16:40.172523Z",
          "shell.execute_reply": "2021-12-25T14:16:40.199874Z"
        },
        "trusted": true,
        "id": "xjwJKeGq4_dC"
      },
      "execution_count": null,
      "outputs": []
    },
    {
      "cell_type": "markdown",
      "source": [
        "## Label Encoding for categorical variables"
      ],
      "metadata": {
        "id": "S4o5Yppp4_dC"
      }
    },
    {
      "cell_type": "code",
      "source": [
        "from sklearn.preprocessing import LabelEncoder\n",
        "for i in data_Cat:\n",
        "    label=LabelEncoder()\n",
        "    label.fit(data[i].values)\n",
        "    data[i]=label.transform(data[i].values)"
      ],
      "metadata": {
        "execution": {
          "iopub.status.busy": "2021-12-25T14:22:20.323485Z",
          "iopub.execute_input": "2021-12-25T14:22:20.323796Z",
          "iopub.status.idle": "2021-12-25T14:22:20.405740Z",
          "shell.execute_reply.started": "2021-12-25T14:22:20.323763Z",
          "shell.execute_reply": "2021-12-25T14:22:20.405002Z"
        },
        "trusted": true,
        "id": "MQlznhmK4_dD"
      },
      "execution_count": null,
      "outputs": []
    },
    {
      "cell_type": "code",
      "source": [
        "data_Cat=data[data.columns[data.dtypes=='object']]\n",
        "data_Cat.columns"
      ],
      "metadata": {
        "execution": {
          "iopub.status.busy": "2021-12-25T14:24:23.052581Z",
          "iopub.execute_input": "2021-12-25T14:24:23.053174Z",
          "iopub.status.idle": "2021-12-25T14:24:23.062014Z",
          "shell.execute_reply.started": "2021-12-25T14:24:23.053123Z",
          "shell.execute_reply": "2021-12-25T14:24:23.060954Z"
        },
        "trusted": true,
        "id": "odmo2gPg4_dD"
      },
      "execution_count": null,
      "outputs": []
    },
    {
      "cell_type": "code",
      "source": [
        "data_Num=data[data.columns[data.dtypes=='int']]\n",
        "data_Num.columns"
      ],
      "metadata": {
        "execution": {
          "iopub.status.busy": "2021-12-25T14:24:43.659613Z",
          "iopub.execute_input": "2021-12-25T14:24:43.660207Z",
          "iopub.status.idle": "2021-12-25T14:24:43.670061Z",
          "shell.execute_reply.started": "2021-12-25T14:24:43.660155Z",
          "shell.execute_reply": "2021-12-25T14:24:43.669196Z"
        },
        "trusted": true,
        "id": "h61PDVBX4_dE"
      },
      "execution_count": null,
      "outputs": []
    },
    {
      "cell_type": "code",
      "source": [
        "data.head()"
      ],
      "metadata": {
        "execution": {
          "iopub.status.busy": "2021-12-25T14:24:56.332011Z",
          "iopub.execute_input": "2021-12-25T14:24:56.332315Z",
          "iopub.status.idle": "2021-12-25T14:24:56.354665Z",
          "shell.execute_reply.started": "2021-12-25T14:24:56.332284Z",
          "shell.execute_reply": "2021-12-25T14:24:56.353983Z"
        },
        "trusted": true,
        "id": "5kLokyTb4_dF"
      },
      "execution_count": null,
      "outputs": []
    },
    {
      "cell_type": "markdown",
      "source": [
        "All the object are of numerical format now."
      ],
      "metadata": {
        "id": "hgB_dBy14_dG"
      }
    },
    {
      "cell_type": "code",
      "source": [
        "X_ = data[data.Type==1]\n",
        "X_ = X_.drop([\"Type\"], axis=1)\n",
        "\n",
        "test_ = data[data.Type==0]\n",
        "test_ = test_.drop([\"Type\"], axis=1)"
      ],
      "metadata": {
        "execution": {
          "iopub.status.busy": "2021-12-25T14:27:22.188970Z",
          "iopub.execute_input": "2021-12-25T14:27:22.189269Z",
          "iopub.status.idle": "2021-12-25T14:27:22.200689Z",
          "shell.execute_reply.started": "2021-12-25T14:27:22.189236Z",
          "shell.execute_reply": "2021-12-25T14:27:22.199815Z"
        },
        "trusted": true,
        "id": "D4f-NI594_dG"
      },
      "execution_count": null,
      "outputs": []
    },
    {
      "cell_type": "code",
      "source": [
        "X_.shape, y.shape, test_.shape \n"
      ],
      "metadata": {
        "execution": {
          "iopub.status.busy": "2021-12-25T14:28:01.356019Z",
          "iopub.execute_input": "2021-12-25T14:28:01.356317Z",
          "iopub.status.idle": "2021-12-25T14:28:01.362741Z",
          "shell.execute_reply.started": "2021-12-25T14:28:01.356284Z",
          "shell.execute_reply": "2021-12-25T14:28:01.361933Z"
        },
        "trusted": true,
        "id": "z30Ev3uR4_dH"
      },
      "execution_count": null,
      "outputs": []
    },
    {
      "cell_type": "markdown",
      "source": [
        "### Scaling the data"
      ],
      "metadata": {
        "id": "_Htvy1dm4_dH"
      }
    },
    {
      "cell_type": "markdown",
      "source": [
        "***It is required because dataset has columns which varies highly in magnitudes. If scaling is not performed then high magnitude values will have more impact on modelling.***"
      ],
      "metadata": {
        "id": "fSSEsCSj4_dI"
      }
    },
    {
      "cell_type": "code",
      "source": [
        "from sklearn import preprocessing\n",
        "names= X_.columns\n",
        "preprocess = preprocessing.normalize(X_ )\n",
        "X_scaled = pd.DataFrame(preprocess, columns=names)"
      ],
      "metadata": {
        "execution": {
          "iopub.status.busy": "2021-12-25T15:14:57.149420Z",
          "iopub.execute_input": "2021-12-25T15:14:57.149732Z",
          "iopub.status.idle": "2021-12-25T15:14:57.158731Z",
          "shell.execute_reply.started": "2021-12-25T15:14:57.149700Z",
          "shell.execute_reply": "2021-12-25T15:14:57.158136Z"
        },
        "trusted": true,
        "id": "4JH0xNr44_dI"
      },
      "execution_count": null,
      "outputs": []
    },
    {
      "cell_type": "code",
      "source": [
        "X_scaled.head()"
      ],
      "metadata": {
        "execution": {
          "iopub.status.busy": "2021-12-25T15:15:24.995572Z",
          "iopub.execute_input": "2021-12-25T15:15:24.995859Z",
          "iopub.status.idle": "2021-12-25T15:15:25.023962Z",
          "shell.execute_reply.started": "2021-12-25T15:15:24.995828Z",
          "shell.execute_reply": "2021-12-25T15:15:25.023308Z"
        },
        "trusted": true,
        "id": "cpkc2tWi4_dJ"
      },
      "execution_count": null,
      "outputs": []
    },
    {
      "cell_type": "markdown",
      "source": [
        "## Data Visualisation"
      ],
      "metadata": {
        "id": "l1b0EEZ54_dJ"
      }
    },
    {
      "cell_type": "code",
      "source": [
        "sns.set()\n",
        "cols = ['OverallQual', 'TotalBsmtSF', 'YearBuilt']\n",
        "sns.pairplot(X_[cols], size = 3)\n",
        "plt.show()"
      ],
      "metadata": {
        "execution": {
          "iopub.status.busy": "2021-12-25T15:20:59.006672Z",
          "iopub.execute_input": "2021-12-25T15:20:59.007556Z",
          "iopub.status.idle": "2021-12-25T15:21:01.286703Z",
          "shell.execute_reply.started": "2021-12-25T15:20:59.007499Z",
          "shell.execute_reply": "2021-12-25T15:21:01.285926Z"
        },
        "trusted": true,
        "id": "KAPpQe9x4_dK"
      },
      "execution_count": null,
      "outputs": []
    },
    {
      "cell_type": "code",
      "source": [
        "correl=X_.corr()\n",
        "plt.subplots(figsize=(23,18))\n",
        "sns.heatmap(correl,vmax=0.8,square=True,cmap=\"RdYlGn\")"
      ],
      "metadata": {
        "execution": {
          "iopub.status.busy": "2021-12-25T15:31:34.408531Z",
          "iopub.execute_input": "2021-12-25T15:31:34.409066Z",
          "iopub.status.idle": "2021-12-25T15:31:39.024140Z",
          "shell.execute_reply.started": "2021-12-25T15:31:34.409030Z",
          "shell.execute_reply": "2021-12-25T15:31:39.023521Z"
        },
        "trusted": true,
        "id": "evrt30Pu4_dL"
      },
      "execution_count": null,
      "outputs": []
    },
    {
      "cell_type": "markdown",
      "source": [
        "## Modelling Aka traning our dataset"
      ],
      "metadata": {
        "id": "MyNuZB9m4_dL"
      }
    },
    {
      "cell_type": "code",
      "source": [
        "#Creating lists to collect all the model names and their scores together\n",
        "\n",
        "score_test = []\n",
        "#score_train = []\n",
        "model = []\n"
      ],
      "metadata": {
        "execution": {
          "iopub.status.busy": "2021-12-25T15:33:10.109174Z",
          "iopub.execute_input": "2021-12-25T15:33:10.110146Z",
          "iopub.status.idle": "2021-12-25T15:33:10.114210Z",
          "shell.execute_reply.started": "2021-12-25T15:33:10.110104Z",
          "shell.execute_reply": "2021-12-25T15:33:10.113320Z"
        },
        "trusted": true,
        "id": "yrmF-wNG4_dM"
      },
      "execution_count": null,
      "outputs": []
    },
    {
      "cell_type": "code",
      "source": [
        "from sklearn.model_selection import train_test_split\n",
        "x_train_90, x_test_10, y_train_90, y_test_10 = train_test_split(X_,y,test_size=0.10,random_state=1)\n",
        "x_train_75, x_test_25, y_train_75, y_test_25 = train_test_split(X_,y,test_size=0.25,random_state=1)\n",
        "\n"
      ],
      "metadata": {
        "execution": {
          "iopub.status.busy": "2021-12-25T15:36:54.835757Z",
          "iopub.execute_input": "2021-12-25T15:36:54.836449Z",
          "iopub.status.idle": "2021-12-25T15:36:54.896821Z",
          "shell.execute_reply.started": "2021-12-25T15:36:54.836407Z",
          "shell.execute_reply": "2021-12-25T15:36:54.896015Z"
        },
        "trusted": true,
        "id": "U5yzv5W54_dM"
      },
      "execution_count": null,
      "outputs": []
    },
    {
      "cell_type": "code",
      "source": [
        "from sklearn.model_selection import train_test_split\n",
        "x_train_scaled_90, x_test_scaled_10, y_train_scaled_90, y_test_scaled_10 = train_test_split(X_scaled, y, test_size=0.10, random_state=1)\n",
        "\n",
        "x_train_scaled_75, x_test_scaled_25, y_train_scaled_75, y_test_scaled_25 = train_test_split(X_scaled, y, test_size=0.25, random_state=1)"
      ],
      "metadata": {
        "execution": {
          "iopub.status.busy": "2021-12-25T15:37:12.291606Z",
          "iopub.execute_input": "2021-12-25T15:37:12.291861Z",
          "iopub.status.idle": "2021-12-25T15:37:12.301652Z",
          "shell.execute_reply.started": "2021-12-25T15:37:12.291833Z",
          "shell.execute_reply": "2021-12-25T15:37:12.300944Z"
        },
        "trusted": true,
        "id": "gkTlY8c94_dN"
      },
      "execution_count": null,
      "outputs": []
    },
    {
      "cell_type": "markdown",
      "source": [
        "### Random Forest Regressor"
      ],
      "metadata": {
        "id": "e1Z1zJBC4_dO"
      }
    },
    {
      "cell_type": "code",
      "source": [
        "from sklearn.ensemble import RandomForestRegressor\n",
        "\n",
        "model_randomforest_train90 = RandomForestRegressor(n_estimators=500,n_jobs=-1, random_state=13)\n",
        "model_randomforest_train90.fit(x_train_90, y_train_90)\n",
        "\n",
        "model_randomforest_train75 = RandomForestRegressor(n_estimators=500, n_jobs=-1, random_state=13)\n",
        "model_randomforest_train75.fit(x_train_75, y_train_75)\n",
        "\n",
        "model_randomforest_scaled_train90 = RandomForestRegressor(n_estimators=500, n_jobs=-1, random_state=13)\n",
        "model_randomforest_scaled_train90.fit(x_train_scaled_90, y_train_scaled_90)\n",
        "\n",
        "model_randomforest_scaled_train75 = RandomForestRegressor(n_estimators=500, n_jobs=-1, random_state=13)\n",
        "model_randomforest_scaled_train75.fit(x_train_scaled_75, y_train_scaled_75)\n"
      ],
      "metadata": {
        "execution": {
          "iopub.status.busy": "2021-12-25T15:40:51.962228Z",
          "iopub.execute_input": "2021-12-25T15:40:51.962533Z",
          "iopub.status.idle": "2021-12-25T15:41:15.949807Z",
          "shell.execute_reply.started": "2021-12-25T15:40:51.962493Z",
          "shell.execute_reply": "2021-12-25T15:41:15.948994Z"
        },
        "trusted": true,
        "id": "jeBzGOXO4_dP"
      },
      "execution_count": null,
      "outputs": []
    },
    {
      "cell_type": "code",
      "source": [
        "score_test.append(model_randomforest_train90.score(x_test_10,y_test_10))\n",
        "model.append(\"model_randomforest_train90\") \n",
        "                  \n",
        "score_test.append(model_randomforest_train75.score(x_test_25, y_test_25))\n",
        "model.append(\"model_randomforest_train75\")\n",
        "\n",
        "score_test.append(model_randomforest_scaled_train90.score(x_test_scaled_10, y_test_scaled_10))\n",
        "model.append(\"model_randomforest_scaled_train90\")\n",
        "\n",
        "score_test.append(model_randomforest_scaled_train75.score(x_test_scaled_25, y_test_scaled_25))\n",
        "model.append(\"model_randomforest_scaled_train75\")"
      ],
      "metadata": {
        "execution": {
          "iopub.status.busy": "2021-12-25T15:43:03.284298Z",
          "iopub.execute_input": "2021-12-25T15:43:03.284817Z",
          "iopub.status.idle": "2021-12-25T15:43:03.813161Z",
          "shell.execute_reply.started": "2021-12-25T15:43:03.284765Z",
          "shell.execute_reply": "2021-12-25T15:43:03.812317Z"
        },
        "trusted": true,
        "id": "9pCUWPaZ4_dP"
      },
      "execution_count": null,
      "outputs": []
    },
    {
      "cell_type": "markdown",
      "source": [
        "**Xgboost**"
      ],
      "metadata": {
        "id": "ql8v4qk94_dQ"
      }
    },
    {
      "cell_type": "code",
      "source": [
        "import xgboost as xgb\n",
        "model_xgboost_train90= xgb.XGBRegressor(colsample_bytree=0.4603,gamma=0.0468,\n",
        "                                       learning_rate=0.05, max_depth=3,\n",
        "                                       min_child_weight=1.7817, n_estimators=2200,\n",
        "                                       reg_alpha=0.4640, reg_lambda=0.8571,\n",
        "                                       subsample=0.5213,silent=1,\n",
        "                                        random_state=7,nthread= -1)\n",
        "model_xgboost_train90.fit(x_train_90,y_train_90)\n",
        "\n",
        "model_xgboost_train75 = xgb.XGBRegressor(colsample_bytree=0.4603, gamma=0.0468, \n",
        "                             learning_rate=0.05, max_depth=3, \n",
        "                             min_child_weight=1.7817, n_estimators=2200,\n",
        "                             reg_alpha=0.4640, reg_lambda=0.8571,\n",
        "                             subsample=0.5213, silent=1,\n",
        "                             random_state =7, nthread = -1)\n",
        " \n",
        "model_xgboost_train75.fit(x_train_75, y_train_75)\n",
        "\n",
        "model_xgboost_scaled_train90 = xgb.XGBRegressor(colsample_bytree=0.4603, gamma=0.0468, \n",
        "                             learning_rate=0.05, max_depth=3, \n",
        "                             min_child_weight=1.7817, n_estimators=2200,\n",
        "                             reg_alpha=0.4640, reg_lambda=0.8571,\n",
        "                             subsample=0.5213, silent=1,\n",
        "                             random_state =7, nthread = -1)\n",
        " \n",
        "model_xgboost_scaled_train90.fit(x_train_scaled_90, y_train_scaled_90)\n",
        "\n",
        "model_xgboost_scaled_train75 = xgb.XGBRegressor(colsample_bytree=0.4603, gamma=0.0468, \n",
        "                             learning_rate=0.05, max_depth=3, \n",
        "                             min_child_weight=1.7817, n_estimators=2200,\n",
        "                             reg_alpha=0.4640, reg_lambda=0.8571,\n",
        "                             subsample=0.5213, silent=1,\n",
        "                             random_state =7, nthread = -1)\n",
        " \n",
        "model_xgboost_scaled_train75.fit(x_train_scaled_75, y_train_scaled_75)"
      ],
      "metadata": {
        "execution": {
          "iopub.status.busy": "2021-12-25T15:49:08.443867Z",
          "iopub.execute_input": "2021-12-25T15:49:08.444167Z",
          "iopub.status.idle": "2021-12-25T15:49:40.959409Z",
          "shell.execute_reply.started": "2021-12-25T15:49:08.444139Z",
          "shell.execute_reply": "2021-12-25T15:49:40.958487Z"
        },
        "trusted": true,
        "id": "ZKq_I7FX4_dQ"
      },
      "execution_count": null,
      "outputs": []
    },
    {
      "cell_type": "code",
      "source": [
        "score_test.append(model_xgboost_train90.score(x_test_10, y_test_10))\n",
        "model.append(\"model_xgboost_train90\")\n",
        "\n",
        "score_test.append(model_xgboost_train75.score(x_test_25, y_test_25))\n",
        "model.append(\"model_xgboost_train75\")\n",
        "\n",
        "score_test.append(model_xgboost_scaled_train90.score(x_test_scaled_10, y_test_scaled_10))\n",
        "model.append(\"model_xgboost_scaled_train90\")\n",
        "\n",
        "score_test.append(model_xgboost_scaled_train75.score(x_test_scaled_25, y_test_scaled_25))\n",
        "model.append(\"model_xgboost_scaled_train75\")"
      ],
      "metadata": {
        "execution": {
          "iopub.status.busy": "2021-12-25T15:50:26.854163Z",
          "iopub.execute_input": "2021-12-25T15:50:26.854491Z",
          "iopub.status.idle": "2021-12-25T15:50:26.909881Z",
          "shell.execute_reply.started": "2021-12-25T15:50:26.854453Z",
          "shell.execute_reply": "2021-12-25T15:50:26.909220Z"
        },
        "trusted": true,
        "id": "FoZzNoMj4_dS"
      },
      "execution_count": null,
      "outputs": []
    },
    {
      "cell_type": "markdown",
      "source": [
        "**Decision Tree**"
      ],
      "metadata": {
        "id": "1RhQ8Y5L4_dS"
      }
    },
    {
      "cell_type": "code",
      "source": [
        "from sklearn.tree import DecisionTreeRegressor\n",
        "model_decisiontree_train90=DecisionTreeRegressor(random_state=0)\n",
        "model_decisiontree_train90.fit(x_train_90,y_train_90)\n",
        "\n",
        "model_decisiontree_train75 = DecisionTreeRegressor(random_state=0)\n",
        "model_decisiontree_train75.fit(x_train_75, y_train_75)\n",
        "\n",
        "model_decisiontree_scaled_train90 = DecisionTreeRegressor(random_state=0)\n",
        "model_decisiontree_scaled_train90.fit(x_train_scaled_90, y_train_scaled_90)\n",
        "\n",
        "model_decisiontree_scaled_train75 = DecisionTreeRegressor(random_state=0)\n",
        "model_decisiontree_scaled_train75.fit(x_train_scaled_75, y_train_scaled_75)"
      ],
      "metadata": {
        "execution": {
          "iopub.status.busy": "2021-12-25T15:52:55.535464Z",
          "iopub.execute_input": "2021-12-25T15:52:55.536122Z",
          "iopub.status.idle": "2021-12-25T15:52:55.741574Z",
          "shell.execute_reply.started": "2021-12-25T15:52:55.536084Z",
          "shell.execute_reply": "2021-12-25T15:52:55.740748Z"
        },
        "trusted": true,
        "id": "JbhBidRr4_dT"
      },
      "execution_count": null,
      "outputs": []
    },
    {
      "cell_type": "code",
      "source": [
        "score_test.append(model_decisiontree_train90.score(x_test_10, y_test_10))\n",
        "model.append(\"model_decisiontree_train90\")\n",
        "\n",
        "score_test.append(model_decisiontree_train75.score(x_test_25, y_test_25))\n",
        "model.append(\"model_decisiontree_train75\")\n",
        "\n",
        "score_test.append(model_decisiontree_scaled_train90.score(x_test_10, y_test_10))\n",
        "model.append(\"model_decisiontree_scaled_train90\")\n",
        "\n",
        "score_test.append(model_decisiontree_scaled_train75.score(x_test_25, y_test_25))\n",
        "model.append(\"model_decisiontree_scaled_train75\")"
      ],
      "metadata": {
        "execution": {
          "iopub.status.busy": "2021-12-25T15:53:06.142748Z",
          "iopub.execute_input": "2021-12-25T15:53:06.143142Z",
          "iopub.status.idle": "2021-12-25T15:53:06.160369Z",
          "shell.execute_reply.started": "2021-12-25T15:53:06.143092Z",
          "shell.execute_reply": "2021-12-25T15:53:06.159455Z"
        },
        "trusted": true,
        "id": "vWN3-SPN4_dU"
      },
      "execution_count": null,
      "outputs": []
    },
    {
      "cell_type": "markdown",
      "source": [
        "#### LASSO"
      ],
      "metadata": {
        "id": "hRGnV_FP4_dU"
      }
    },
    {
      "cell_type": "code",
      "source": [
        "from sklearn.linear_model import Lasso\n",
        "model_lasso_train90= Lasso(alpha=0.0005)\n",
        "model_lasso_train90.fit(x_train_90, y_train_90)\n",
        "\n",
        "model_lasso_train75 = Lasso(alpha=0.0005)\n",
        "model_lasso_train75.fit(x_train_75, y_train_75)\n"
      ],
      "metadata": {
        "execution": {
          "iopub.status.busy": "2021-12-25T15:57:54.178580Z",
          "iopub.execute_input": "2021-12-25T15:57:54.178869Z",
          "iopub.status.idle": "2021-12-25T15:57:54.375082Z",
          "shell.execute_reply.started": "2021-12-25T15:57:54.178839Z",
          "shell.execute_reply": "2021-12-25T15:57:54.374142Z"
        },
        "trusted": true,
        "id": "OK_zjDHg4_dV"
      },
      "execution_count": null,
      "outputs": []
    },
    {
      "cell_type": "code",
      "source": [
        "score_test.append(model_lasso_train90.score(x_test_10, y_test_10))\n",
        "model.append(\"model_lasso_train90\")\n",
        "\n",
        "score_test.append(model_lasso_train90.score(x_test_10, y_test_10))\n",
        "model.append(\"model_lasso_train90\")"
      ],
      "metadata": {
        "execution": {
          "iopub.status.busy": "2021-12-25T15:58:08.162513Z",
          "iopub.execute_input": "2021-12-25T15:58:08.163377Z",
          "iopub.status.idle": "2021-12-25T15:58:08.177849Z",
          "shell.execute_reply.started": "2021-12-25T15:58:08.163321Z",
          "shell.execute_reply": "2021-12-25T15:58:08.176950Z"
        },
        "trusted": true,
        "id": "Zygj1u6p4_dW"
      },
      "execution_count": null,
      "outputs": []
    },
    {
      "cell_type": "markdown",
      "source": [
        "#### Score of all the models"
      ],
      "metadata": {
        "id": "KJxWKz8M4_dX"
      }
    },
    {
      "cell_type": "code",
      "source": [
        "final_scores = pd.DataFrame()\n",
        "final_scores['model_name'] = model\n",
        "final_scores['score_test'] = score_test\n",
        "final_scores"
      ],
      "metadata": {
        "execution": {
          "iopub.status.busy": "2021-12-25T15:59:49.015944Z",
          "iopub.execute_input": "2021-12-25T15:59:49.016720Z",
          "iopub.status.idle": "2021-12-25T15:59:49.029906Z",
          "shell.execute_reply.started": "2021-12-25T15:59:49.016686Z",
          "shell.execute_reply": "2021-12-25T15:59:49.029085Z"
        },
        "trusted": true,
        "id": "YkOpXFGn4_dX"
      },
      "execution_count": null,
      "outputs": []
    },
    {
      "cell_type": "markdown",
      "source": [
        "#### Finding the best model"
      ],
      "metadata": {
        "id": "XjKcrIrm4_dY"
      }
    },
    {
      "cell_type": "code",
      "source": [
        "best_index=score_test.index(max(score_test))\n",
        "best_model=final_scores['model_name'][best_index]\n",
        "best_model"
      ],
      "metadata": {
        "execution": {
          "iopub.status.busy": "2021-12-25T16:16:21.367395Z",
          "iopub.execute_input": "2021-12-25T16:16:21.367703Z",
          "iopub.status.idle": "2021-12-25T16:16:21.375380Z",
          "shell.execute_reply.started": "2021-12-25T16:16:21.367672Z",
          "shell.execute_reply": "2021-12-25T16:16:21.374467Z"
        },
        "trusted": true,
        "id": "hsYqvzdZ4_dY"
      },
      "execution_count": null,
      "outputs": []
    },
    {
      "cell_type": "markdown",
      "source": [
        "#### Predicting the test data with best model"
      ],
      "metadata": {
        "id": "n9FPV7f94_dZ"
      }
    },
    {
      "cell_type": "code",
      "source": [
        "y_predict_best = model_xgboost_train90.predict(test_)"
      ],
      "metadata": {
        "execution": {
          "iopub.status.busy": "2021-12-25T16:17:37.665160Z",
          "iopub.execute_input": "2021-12-25T16:17:37.665455Z",
          "iopub.status.idle": "2021-12-25T16:17:37.705994Z",
          "shell.execute_reply.started": "2021-12-25T16:17:37.665424Z",
          "shell.execute_reply": "2021-12-25T16:17:37.699577Z"
        },
        "trusted": true,
        "id": "IHGEop2c4_dZ"
      },
      "execution_count": null,
      "outputs": []
    },
    {
      "cell_type": "markdown",
      "source": [
        "#### Submission"
      ],
      "metadata": {
        "id": "v8qepI5E4_da"
      }
    },
    {
      "cell_type": "code",
      "source": [
        "result = pd.DataFrame()\n",
        "result['Id'] = test['Id']\n",
        "result['SalePrice'] = y_predict_best"
      ],
      "metadata": {
        "execution": {
          "iopub.status.busy": "2021-12-25T16:18:36.502455Z",
          "iopub.execute_input": "2021-12-25T16:18:36.503501Z",
          "iopub.status.idle": "2021-12-25T16:18:36.511602Z",
          "shell.execute_reply.started": "2021-12-25T16:18:36.503445Z",
          "shell.execute_reply": "2021-12-25T16:18:36.510586Z"
        },
        "trusted": true,
        "id": "veutRdpg4_da"
      },
      "execution_count": null,
      "outputs": []
    },
    {
      "cell_type": "code",
      "source": [
        "result.head(10)"
      ],
      "metadata": {
        "execution": {
          "iopub.status.busy": "2021-12-25T16:18:58.898337Z",
          "iopub.execute_input": "2021-12-25T16:18:58.899007Z",
          "iopub.status.idle": "2021-12-25T16:18:58.908673Z",
          "shell.execute_reply.started": "2021-12-25T16:18:58.898956Z",
          "shell.execute_reply": "2021-12-25T16:18:58.908082Z"
        },
        "trusted": true,
        "id": "8itm0BXg4_db"
      },
      "execution_count": null,
      "outputs": []
    },
    {
      "cell_type": "code",
      "source": [
        "result.to_csv('submission.csv', index=False)"
      ],
      "metadata": {
        "execution": {
          "iopub.status.busy": "2021-12-25T16:19:18.577223Z",
          "iopub.execute_input": "2021-12-25T16:19:18.577485Z",
          "iopub.status.idle": "2021-12-25T16:19:18.591204Z",
          "shell.execute_reply.started": "2021-12-25T16:19:18.577457Z",
          "shell.execute_reply": "2021-12-25T16:19:18.590337Z"
        },
        "trusted": true,
        "id": "YYxQ6FnC4_db"
      },
      "execution_count": null,
      "outputs": []
    },
    {
      "cell_type": "code",
      "source": [
        ""
      ],
      "metadata": {
        "id": "5G1UlrSO4_dc"
      },
      "execution_count": null,
      "outputs": []
    }
  ]
}