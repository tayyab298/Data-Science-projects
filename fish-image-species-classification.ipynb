{
 "cells": [
  {
   "cell_type": "markdown",
   "metadata": {
    "papermill": {
     "duration": 0.011486,
     "end_time": "2021-03-11T04:12:37.860624",
     "exception": false,
     "start_time": "2021-03-11T04:12:37.849138",
     "status": "completed"
    },
    "tags": []
   },
   "source": [
    "\n",
    "\n",
    "## Fish Image Species Classification  \n",
    "\n",
    "Given *images of fish*, let's try to predict the **species** of fish present in a given image.\n",
    "\n",
    "We will use a TensorFlow/Keras pretrained CNN to make our predictions.\n",
    "\n",
    "This dataset contains 9 different seafood types collected from a supermarket in Izmir, Turkey\n",
    "for a university-industry collaboration project at Izmir University of Economics, and this work\n",
    "was published in ASYU 2020.\n",
    "The dataset includes gilt head bream, red sea bream, sea bass, red mullet, horse mackerel,\n",
    "black sea sprat, striped red mullet, trout, shrimp image samples."
   ]
  },
  {
   "cell_type": "markdown",
   "metadata": {
    "papermill": {
     "duration": 0.009878,
     "end_time": "2021-03-11T04:12:37.881850",
     "exception": false,
     "start_time": "2021-03-11T04:12:37.871972",
     "status": "completed"
    },
    "tags": []
   },
   "source": [
    "# Getting Started"
   ]
  },
  {
   "cell_type": "code",
   "execution_count": 1,
   "metadata": {
    "execution": {
     "iopub.execute_input": "2021-03-11T04:12:37.909234Z",
     "iopub.status.busy": "2021-03-11T04:12:37.908561Z",
     "iopub.status.idle": "2021-03-11T04:12:46.410079Z",
     "shell.execute_reply": "2021-03-11T04:12:46.411002Z"
    },
    "papermill": {
     "duration": 8.5193,
     "end_time": "2021-03-11T04:12:46.411347",
     "exception": false,
     "start_time": "2021-03-11T04:12:37.892047",
     "status": "completed"
    },
    "tags": []
   },
   "outputs": [],
   "source": [
    "import numpy as np\n",
    "import pandas as pd\n",
    "from pathlib import Path\n",
    "import os.path\n",
    "\n",
    "from sklearn.model_selection import train_test_split\n",
    "\n",
    "import tensorflow as tf"
   ]
  },
  {
   "cell_type": "code",
   "execution_count": 2,
   "metadata": {
    "execution": {
     "iopub.execute_input": "2021-03-11T04:12:46.438947Z",
     "iopub.status.busy": "2021-03-11T04:12:46.437996Z",
     "iopub.status.idle": "2021-03-11T04:12:46.441723Z",
     "shell.execute_reply": "2021-03-11T04:12:46.441015Z"
    },
    "papermill": {
     "duration": 0.019434,
     "end_time": "2021-03-11T04:12:46.441866",
     "exception": false,
     "start_time": "2021-03-11T04:12:46.422432",
     "status": "completed"
    },
    "tags": []
   },
   "outputs": [],
   "source": [
    "image_dir = Path('../input/a-large-scale-fish-dataset/Fish_Dataset/Fish_Dataset')"
   ]
  },
  {
   "cell_type": "markdown",
   "metadata": {
    "papermill": {
     "duration": 0.010198,
     "end_time": "2021-03-11T04:12:46.462772",
     "exception": false,
     "start_time": "2021-03-11T04:12:46.452574",
     "status": "completed"
    },
    "tags": []
   },
   "source": [
    "# Creating File DataFrame"
   ]
  },
  {
   "cell_type": "code",
   "execution_count": 3,
   "metadata": {
    "execution": {
     "iopub.execute_input": "2021-03-11T04:12:46.493430Z",
     "iopub.status.busy": "2021-03-11T04:12:46.492728Z",
     "iopub.status.idle": "2021-03-11T04:12:48.594858Z",
     "shell.execute_reply": "2021-03-11T04:12:48.594253Z"
    },
    "papermill": {
     "duration": 2.121739,
     "end_time": "2021-03-11T04:12:48.595017",
     "exception": false,
     "start_time": "2021-03-11T04:12:46.473278",
     "status": "completed"
    },
    "tags": []
   },
   "outputs": [],
   "source": [
    "# Get filepaths and labels\n",
    "filepaths = list(image_dir.glob(r'**/*.png'))\n",
    "labels = list(map(lambda x: os.path.split(os.path.split(x)[0])[1], filepaths))\n",
    "\n",
    "filepaths = pd.Series(filepaths, name='Filepath').astype(str)\n",
    "labels = pd.Series(labels, name='Label')\n",
    "\n",
    "# Concatenate filepaths and labels\n",
    "image_df = pd.concat([filepaths, labels], axis=1)\n",
    "\n",
    "# Drop GT images\n",
    "image_df['Label'] = image_df['Label'].apply(lambda x: np.NaN if x[-2:] == 'GT' else x)\n",
    "image_df = image_df.dropna(axis=0)\n",
    "\n",
    "# Sample 200 images from each class\n",
    "samples = []\n",
    "\n",
    "for category in image_df['Label'].unique():\n",
    "    category_slice = image_df.query(\"Label == @category\")\n",
    "    samples.append(category_slice.sample(200, random_state=1))\n",
    "\n",
    "image_df = pd.concat(samples, axis=0).sample(frac=1.0, random_state=1).reset_index(drop=True)"
   ]
  },
  {
   "cell_type": "code",
   "execution_count": 4,
   "metadata": {
    "execution": {
     "iopub.execute_input": "2021-03-11T04:12:48.625669Z",
     "iopub.status.busy": "2021-03-11T04:12:48.624939Z",
     "iopub.status.idle": "2021-03-11T04:12:48.644441Z",
     "shell.execute_reply": "2021-03-11T04:12:48.643899Z"
    },
    "papermill": {
     "duration": 0.038585,
     "end_time": "2021-03-11T04:12:48.644591",
     "exception": false,
     "start_time": "2021-03-11T04:12:48.606006",
     "status": "completed"
    },
    "tags": []
   },
   "outputs": [
    {
     "data": {
      "text/html": [
       "<div>\n",
       "<style scoped>\n",
       "    .dataframe tbody tr th:only-of-type {\n",
       "        vertical-align: middle;\n",
       "    }\n",
       "\n",
       "    .dataframe tbody tr th {\n",
       "        vertical-align: top;\n",
       "    }\n",
       "\n",
       "    .dataframe thead th {\n",
       "        text-align: right;\n",
       "    }\n",
       "</style>\n",
       "<table border=\"1\" class=\"dataframe\">\n",
       "  <thead>\n",
       "    <tr style=\"text-align: right;\">\n",
       "      <th></th>\n",
       "      <th>Filepath</th>\n",
       "      <th>Label</th>\n",
       "    </tr>\n",
       "  </thead>\n",
       "  <tbody>\n",
       "    <tr>\n",
       "      <th>0</th>\n",
       "      <td>../input/a-large-scale-fish-dataset/Fish_Datas...</td>\n",
       "      <td>Gilt-Head Bream</td>\n",
       "    </tr>\n",
       "    <tr>\n",
       "      <th>1</th>\n",
       "      <td>../input/a-large-scale-fish-dataset/Fish_Datas...</td>\n",
       "      <td>Sea Bass</td>\n",
       "    </tr>\n",
       "    <tr>\n",
       "      <th>2</th>\n",
       "      <td>../input/a-large-scale-fish-dataset/Fish_Datas...</td>\n",
       "      <td>Red Mullet</td>\n",
       "    </tr>\n",
       "    <tr>\n",
       "      <th>3</th>\n",
       "      <td>../input/a-large-scale-fish-dataset/Fish_Datas...</td>\n",
       "      <td>Shrimp</td>\n",
       "    </tr>\n",
       "    <tr>\n",
       "      <th>4</th>\n",
       "      <td>../input/a-large-scale-fish-dataset/Fish_Datas...</td>\n",
       "      <td>Trout</td>\n",
       "    </tr>\n",
       "    <tr>\n",
       "      <th>...</th>\n",
       "      <td>...</td>\n",
       "      <td>...</td>\n",
       "    </tr>\n",
       "    <tr>\n",
       "      <th>1795</th>\n",
       "      <td>../input/a-large-scale-fish-dataset/Fish_Datas...</td>\n",
       "      <td>Trout</td>\n",
       "    </tr>\n",
       "    <tr>\n",
       "      <th>1796</th>\n",
       "      <td>../input/a-large-scale-fish-dataset/Fish_Datas...</td>\n",
       "      <td>Red Sea Bream</td>\n",
       "    </tr>\n",
       "    <tr>\n",
       "      <th>1797</th>\n",
       "      <td>../input/a-large-scale-fish-dataset/Fish_Datas...</td>\n",
       "      <td>Striped Red Mullet</td>\n",
       "    </tr>\n",
       "    <tr>\n",
       "      <th>1798</th>\n",
       "      <td>../input/a-large-scale-fish-dataset/Fish_Datas...</td>\n",
       "      <td>Black Sea Sprat</td>\n",
       "    </tr>\n",
       "    <tr>\n",
       "      <th>1799</th>\n",
       "      <td>../input/a-large-scale-fish-dataset/Fish_Datas...</td>\n",
       "      <td>Striped Red Mullet</td>\n",
       "    </tr>\n",
       "  </tbody>\n",
       "</table>\n",
       "<p>1800 rows × 2 columns</p>\n",
       "</div>"
      ],
      "text/plain": [
       "                                               Filepath               Label\n",
       "0     ../input/a-large-scale-fish-dataset/Fish_Datas...     Gilt-Head Bream\n",
       "1     ../input/a-large-scale-fish-dataset/Fish_Datas...            Sea Bass\n",
       "2     ../input/a-large-scale-fish-dataset/Fish_Datas...          Red Mullet\n",
       "3     ../input/a-large-scale-fish-dataset/Fish_Datas...              Shrimp\n",
       "4     ../input/a-large-scale-fish-dataset/Fish_Datas...               Trout\n",
       "...                                                 ...                 ...\n",
       "1795  ../input/a-large-scale-fish-dataset/Fish_Datas...               Trout\n",
       "1796  ../input/a-large-scale-fish-dataset/Fish_Datas...       Red Sea Bream\n",
       "1797  ../input/a-large-scale-fish-dataset/Fish_Datas...  Striped Red Mullet\n",
       "1798  ../input/a-large-scale-fish-dataset/Fish_Datas...     Black Sea Sprat\n",
       "1799  ../input/a-large-scale-fish-dataset/Fish_Datas...  Striped Red Mullet\n",
       "\n",
       "[1800 rows x 2 columns]"
      ]
     },
     "execution_count": 4,
     "metadata": {},
     "output_type": "execute_result"
    }
   ],
   "source": [
    "image_df"
   ]
  },
  {
   "cell_type": "code",
   "execution_count": 5,
   "metadata": {
    "execution": {
     "iopub.execute_input": "2021-03-11T04:12:48.674646Z",
     "iopub.status.busy": "2021-03-11T04:12:48.673767Z",
     "iopub.status.idle": "2021-03-11T04:12:48.679883Z",
     "shell.execute_reply": "2021-03-11T04:12:48.679143Z"
    },
    "papermill": {
     "duration": 0.022796,
     "end_time": "2021-03-11T04:12:48.680036",
     "exception": false,
     "start_time": "2021-03-11T04:12:48.657240",
     "status": "completed"
    },
    "tags": []
   },
   "outputs": [],
   "source": [
    "train_df, test_df = train_test_split(image_df, train_size=0.7, shuffle=True, random_state=1)"
   ]
  },
  {
   "cell_type": "markdown",
   "metadata": {
    "papermill": {
     "duration": 0.011377,
     "end_time": "2021-03-11T04:12:48.703241",
     "exception": false,
     "start_time": "2021-03-11T04:12:48.691864",
     "status": "completed"
    },
    "tags": []
   },
   "source": [
    "# Loading the Images"
   ]
  },
  {
   "cell_type": "code",
   "execution_count": 6,
   "metadata": {
    "execution": {
     "iopub.execute_input": "2021-03-11T04:12:48.734244Z",
     "iopub.status.busy": "2021-03-11T04:12:48.733510Z",
     "iopub.status.idle": "2021-03-11T04:12:48.736611Z",
     "shell.execute_reply": "2021-03-11T04:12:48.735921Z"
    },
    "papermill": {
     "duration": 0.021915,
     "end_time": "2021-03-11T04:12:48.736763",
     "exception": false,
     "start_time": "2021-03-11T04:12:48.714848",
     "status": "completed"
    },
    "tags": []
   },
   "outputs": [],
   "source": [
    "train_generator = tf.keras.preprocessing.image.ImageDataGenerator(\n",
    "    preprocessing_function=tf.keras.applications.mobilenet_v2.preprocess_input,\n",
    "    validation_split=0.2\n",
    ")\n",
    "\n",
    "test_generator = tf.keras.preprocessing.image.ImageDataGenerator(\n",
    "    preprocessing_function=tf.keras.applications.mobilenet_v2.preprocess_input\n",
    ")"
   ]
  },
  {
   "cell_type": "code",
   "execution_count": 7,
   "metadata": {
    "execution": {
     "iopub.execute_input": "2021-03-11T04:12:48.775308Z",
     "iopub.status.busy": "2021-03-11T04:12:48.774588Z",
     "iopub.status.idle": "2021-03-11T04:12:48.826127Z",
     "shell.execute_reply": "2021-03-11T04:12:48.825550Z"
    },
    "papermill": {
     "duration": 0.077363,
     "end_time": "2021-03-11T04:12:48.826270",
     "exception": false,
     "start_time": "2021-03-11T04:12:48.748907",
     "status": "completed"
    },
    "tags": []
   },
   "outputs": [
    {
     "name": "stdout",
     "output_type": "stream",
     "text": [
      "Found 1008 validated image filenames belonging to 9 classes.\n",
      "Found 252 validated image filenames belonging to 9 classes.\n",
      "Found 540 validated image filenames belonging to 9 classes.\n"
     ]
    }
   ],
   "source": [
    "train_images = train_generator.flow_from_dataframe(\n",
    "    dataframe=train_df,\n",
    "    x_col='Filepath',\n",
    "    y_col='Label',\n",
    "    target_size=(224, 224),\n",
    "    color_mode='rgb',\n",
    "    class_mode='categorical',\n",
    "    batch_size=32,\n",
    "    shuffle=True,\n",
    "    seed=42,\n",
    "    subset='training'\n",
    ")\n",
    "\n",
    "val_images = train_generator.flow_from_dataframe(\n",
    "    dataframe=train_df,\n",
    "    x_col='Filepath',\n",
    "    y_col='Label',\n",
    "    target_size=(224, 224),\n",
    "    color_mode='rgb',\n",
    "    class_mode='categorical',\n",
    "    batch_size=32,\n",
    "    shuffle=True,\n",
    "    seed=42,\n",
    "    subset='validation'\n",
    ")\n",
    "\n",
    "test_images = test_generator.flow_from_dataframe(\n",
    "    dataframe=test_df,\n",
    "    x_col='Filepath',\n",
    "    y_col='Label',\n",
    "    target_size=(224, 224),\n",
    "    color_mode='rgb',\n",
    "    class_mode='categorical',\n",
    "    batch_size=32,\n",
    "    shuffle=False\n",
    ")"
   ]
  },
  {
   "cell_type": "markdown",
   "metadata": {
    "papermill": {
     "duration": 0.011868,
     "end_time": "2021-03-11T04:12:48.850788",
     "exception": false,
     "start_time": "2021-03-11T04:12:48.838920",
     "status": "completed"
    },
    "tags": []
   },
   "source": [
    "# Load Pretrained Model"
   ]
  },
  {
   "cell_type": "code",
   "execution_count": 8,
   "metadata": {
    "execution": {
     "iopub.execute_input": "2021-03-11T04:12:48.886136Z",
     "iopub.status.busy": "2021-03-11T04:12:48.885329Z",
     "iopub.status.idle": "2021-03-11T04:12:50.600889Z",
     "shell.execute_reply": "2021-03-11T04:12:50.599174Z"
    },
    "papermill": {
     "duration": 1.736843,
     "end_time": "2021-03-11T04:12:50.601058",
     "exception": false,
     "start_time": "2021-03-11T04:12:48.864215",
     "status": "completed"
    },
    "tags": []
   },
   "outputs": [
    {
     "name": "stdout",
     "output_type": "stream",
     "text": [
      "Downloading data from https://storage.googleapis.com/tensorflow/keras-applications/mobilenet_v2/mobilenet_v2_weights_tf_dim_ordering_tf_kernels_1.0_224_no_top.h5\n",
      "9412608/9406464 [==============================] - 0s 0us/step\n"
     ]
    }
   ],
   "source": [
    "pretrained_model = tf.keras.applications.MobileNetV2(\n",
    "    input_shape=(224, 224, 3),\n",
    "    include_top=False,\n",
    "    weights='imagenet',\n",
    "    pooling='avg'\n",
    ")\n",
    "\n",
    "pretrained_model.trainable = False"
   ]
  },
  {
   "cell_type": "markdown",
   "metadata": {
    "papermill": {
     "duration": 0.013377,
     "end_time": "2021-03-11T04:12:50.628130",
     "exception": false,
     "start_time": "2021-03-11T04:12:50.614753",
     "status": "completed"
    },
    "tags": []
   },
   "source": [
    "# Training"
   ]
  },
  {
   "cell_type": "code",
   "execution_count": 9,
   "metadata": {
    "execution": {
     "iopub.execute_input": "2021-03-11T04:12:50.664937Z",
     "iopub.status.busy": "2021-03-11T04:12:50.663911Z",
     "iopub.status.idle": "2021-03-11T04:19:29.581897Z",
     "shell.execute_reply": "2021-03-11T04:19:29.581285Z"
    },
    "papermill": {
     "duration": 398.940619,
     "end_time": "2021-03-11T04:19:29.582112",
     "exception": false,
     "start_time": "2021-03-11T04:12:50.641493",
     "status": "completed"
    },
    "tags": []
   },
   "outputs": [
    {
     "name": "stdout",
     "output_type": "stream",
     "text": [
      "Epoch 1/100\n",
      "32/32 [==============================] - 49s 1s/step - loss: 1.3493 - accuracy: 0.5841 - val_loss: 0.2451 - val_accuracy: 0.9286\n",
      "Epoch 2/100\n",
      "32/32 [==============================] - 39s 1s/step - loss: 0.0845 - accuracy: 0.9789 - val_loss: 0.0941 - val_accuracy: 0.9722\n",
      "Epoch 3/100\n",
      "32/32 [==============================] - 38s 1s/step - loss: 0.0242 - accuracy: 0.9997 - val_loss: 0.0879 - val_accuracy: 0.9722\n",
      "Epoch 4/100\n",
      "32/32 [==============================] - 38s 1s/step - loss: 0.0109 - accuracy: 1.0000 - val_loss: 0.0817 - val_accuracy: 0.9722\n",
      "Epoch 5/100\n",
      "32/32 [==============================] - 38s 1s/step - loss: 0.0098 - accuracy: 0.9974 - val_loss: 0.0504 - val_accuracy: 0.9881\n",
      "Epoch 6/100\n",
      "32/32 [==============================] - 38s 1s/step - loss: 0.0048 - accuracy: 1.0000 - val_loss: 0.0533 - val_accuracy: 0.9841\n",
      "Epoch 7/100\n",
      "32/32 [==============================] - 39s 1s/step - loss: 0.0027 - accuracy: 1.0000 - val_loss: 0.0449 - val_accuracy: 0.9881\n",
      "Epoch 8/100\n",
      "32/32 [==============================] - 39s 1s/step - loss: 0.0021 - accuracy: 1.0000 - val_loss: 0.0480 - val_accuracy: 0.9881\n",
      "Epoch 9/100\n",
      "32/32 [==============================] - 39s 1s/step - loss: 0.0017 - accuracy: 1.0000 - val_loss: 0.0497 - val_accuracy: 0.9881\n",
      "Epoch 10/100\n",
      "32/32 [==============================] - 39s 1s/step - loss: 0.0013 - accuracy: 1.0000 - val_loss: 0.0544 - val_accuracy: 0.9881\n"
     ]
    }
   ],
   "source": [
    "inputs = pretrained_model.input\n",
    "\n",
    "x = tf.keras.layers.Dense(128, activation='relu')(pretrained_model.output)\n",
    "x = tf.keras.layers.Dense(128, activation='relu')(x)\n",
    "\n",
    "outputs = tf.keras.layers.Dense(9, activation='softmax')(x)\n",
    "\n",
    "\n",
    "model = tf.keras.Model(inputs=inputs, outputs=outputs)\n",
    "\n",
    "\n",
    "model.compile(\n",
    "    optimizer='adam',\n",
    "    loss='categorical_crossentropy',\n",
    "    metrics=['accuracy']\n",
    ")\n",
    "\n",
    "\n",
    "history = model.fit(\n",
    "    train_images,\n",
    "    validation_data=val_images,\n",
    "    epochs=100,\n",
    "    callbacks=[\n",
    "        tf.keras.callbacks.EarlyStopping(\n",
    "            monitor='val_loss',\n",
    "            patience=3,\n",
    "            restore_best_weights=True\n",
    "        )\n",
    "    ]\n",
    ")"
   ]
  },
  {
   "cell_type": "markdown",
   "metadata": {
    "papermill": {
     "duration": 0.119412,
     "end_time": "2021-03-11T04:19:29.823131",
     "exception": false,
     "start_time": "2021-03-11T04:19:29.703719",
     "status": "completed"
    },
    "tags": []
   },
   "source": [
    "# Results"
   ]
  },
  {
   "cell_type": "code",
   "execution_count": 10,
   "metadata": {
    "execution": {
     "iopub.execute_input": "2021-03-11T04:19:30.064547Z",
     "iopub.status.busy": "2021-03-11T04:19:30.063613Z",
     "iopub.status.idle": "2021-03-11T04:19:50.316909Z",
     "shell.execute_reply": "2021-03-11T04:19:50.316285Z"
    },
    "papermill": {
     "duration": 20.376129,
     "end_time": "2021-03-11T04:19:50.317236",
     "exception": false,
     "start_time": "2021-03-11T04:19:29.941107",
     "status": "completed"
    },
    "tags": []
   },
   "outputs": [
    {
     "name": "stdout",
     "output_type": "stream",
     "text": [
      "    Test Loss: 0.02443\n",
      "Test Accuracy: 99.44%\n"
     ]
    }
   ],
   "source": [
    "results = model.evaluate(test_images, verbose=0)\n",
    "\n",
    "print(\"    Test Loss: {:.5f}\".format(results[0]))\n",
    "print(\"Test Accuracy: {:.2f}%\".format(results[1] * 100))"
   ]
  },
  {
   "cell_type": "markdown",
   "metadata": {
    "papermill": {
     "duration": 0.117622,
     "end_time": "2021-03-11T04:19:50.551943",
     "exception": false,
     "start_time": "2021-03-11T04:19:50.434321",
     "status": "completed"
    },
    "tags": []
   },
   "source": [
    "\n"
   ]
  }
 ],
 "metadata": {
  "kernelspec": {
   "display_name": "Python 3",
   "language": "python",
   "name": "python3"
  },
  "language_info": {
   "codemirror_mode": {
    "name": "ipython",
    "version": 3
   },
   "file_extension": ".py",
   "mimetype": "text/x-python",
   "name": "python",
   "nbconvert_exporter": "python",
   "pygments_lexer": "ipython3",
   "version": "3.8.8"
  },
  "papermill": {
   "default_parameters": {},
   "duration": 440.876924,
   "end_time": "2021-03-11T04:19:51.883377",
   "environment_variables": {},
   "exception": null,
   "input_path": "__notebook__.ipynb",
   "output_path": "__notebook__.ipynb",
   "parameters": {},
   "start_time": "2021-03-11T04:12:31.006453",
   "version": "2.2.2"
  }
 },
 "nbformat": 4,
 "nbformat_minor": 4
}
